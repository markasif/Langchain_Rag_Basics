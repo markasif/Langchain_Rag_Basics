{
 "cells": [
  {
   "cell_type": "code",
   "execution_count": 2,
   "metadata": {},
   "outputs": [
    {
     "data": {
      "text/plain": [
       "[Document(metadata={'source': 'AI_NLP_LLM.txt'}, page_content='Title: Introduction to AI and NLP for LLMs\\n\\n1. Introduction to Artificial Intelligence (AI)\\nArtificial Intelligence (AI) is a branch of computer science that focuses on creating systems capable of performing tasks that typically require human intelligence.\\n\\n1.1 Types of AI\\n- Narrow AI (Weak AI): Designed to perform a specific task (e.g., chatbots, recommendation systems).\\n- General AI (Strong AI): Aims to perform any intellectual task a human can do.\\n- Super AI: A hypothetical AI surpassing human intelligence in all aspects.\\n\\n2. Natural Language Processing (NLP)\\nNatural Language Processing (NLP) is a subfield of AI that focuses on enabling computers to understand, interpret, and generate human language.\\n\\n3. Large Language Models (LLMs)\\nLLMs are advanced deep learning models trained on massive amounts of text data to generate human-like text.\\n\\n4. Retrieval-Augmented Generation (RAG) in LLMs\\nRetrieval-Augmented Generation (RAG) enhances LLMs by fetching relevant documents from external sources to improve response quality.\\n\\n5. Conclusion\\nAI and NLP have revolutionized how we interact with machines. With advancements in LLMs and techniques like RAG, AI-powered applications are becoming more accurate and context-aware.\\n')]"
      ]
     },
     "execution_count": 2,
     "metadata": {},
     "output_type": "execute_result"
    }
   ],
   "source": [
    "from langchain_community.document_loaders import TextLoader\n",
    "loader=TextLoader('AI_NLP_LLM.txt')\n",
    "docs = loader.load()\n",
    "docs"
   ]
  },
  {
   "cell_type": "code",
   "execution_count": 3,
   "metadata": {},
   "outputs": [
    {
     "name": "stderr",
     "output_type": "stream",
     "text": [
      "Created a chunk of size 212, which is longer than the specified 100\n",
      "Created a chunk of size 272, which is longer than the specified 100\n",
      "Created a chunk of size 180, which is longer than the specified 100\n",
      "Created a chunk of size 139, which is longer than the specified 100\n",
      "Created a chunk of size 180, which is longer than the specified 100\n"
     ]
    },
    {
     "data": {
      "text/plain": [
       "[Document(metadata={'source': 'AI_NLP_LLM.txt'}, page_content='Title: Introduction to AI and NLP for LLMs'),\n",
       " Document(metadata={'source': 'AI_NLP_LLM.txt'}, page_content='1. Introduction to Artificial Intelligence (AI)\\nArtificial Intelligence (AI) is a branch of computer science that focuses on creating systems capable of performing tasks that typically require human intelligence.'),\n",
       " Document(metadata={'source': 'AI_NLP_LLM.txt'}, page_content='1.1 Types of AI\\n- Narrow AI (Weak AI): Designed to perform a specific task (e.g., chatbots, recommendation systems).\\n- General AI (Strong AI): Aims to perform any intellectual task a human can do.\\n- Super AI: A hypothetical AI surpassing human intelligence in all aspects.'),\n",
       " Document(metadata={'source': 'AI_NLP_LLM.txt'}, page_content='2. Natural Language Processing (NLP)\\nNatural Language Processing (NLP) is a subfield of AI that focuses on enabling computers to understand, interpret, and generate human language.'),\n",
       " Document(metadata={'source': 'AI_NLP_LLM.txt'}, page_content='3. Large Language Models (LLMs)\\nLLMs are advanced deep learning models trained on massive amounts of text data to generate human-like text.'),\n",
       " Document(metadata={'source': 'AI_NLP_LLM.txt'}, page_content='4. Retrieval-Augmented Generation (RAG) in LLMs\\nRetrieval-Augmented Generation (RAG) enhances LLMs by fetching relevant documents from external sources to improve response quality.'),\n",
       " Document(metadata={'source': 'AI_NLP_LLM.txt'}, page_content='5. Conclusion\\nAI and NLP have revolutionized how we interact with machines. With advancements in LLMs and techniques like RAG, AI-powered applications are becoming more accurate and context-aware.')]"
      ]
     },
     "execution_count": 3,
     "metadata": {},
     "output_type": "execute_result"
    }
   ],
   "source": [
    "from langchain_text_splitters import CharacterTextSplitter\n",
    "text_splitter = CharacterTextSplitter(separator=\"\\n\\n\",chunk_size=100,chunk_overlap=20)\n",
    "text_splitter.split_documents(docs)"
   ]
  },
  {
   "cell_type": "code",
   "execution_count": 7,
   "metadata": {},
   "outputs": [
    {
     "name": "stderr",
     "output_type": "stream",
     "text": [
      "Created a chunk of size 212, which is longer than the specified 100\n",
      "Created a chunk of size 272, which is longer than the specified 100\n",
      "Created a chunk of size 180, which is longer than the specified 100\n",
      "Created a chunk of size 139, which is longer than the specified 100\n",
      "Created a chunk of size 180, which is longer than the specified 100\n"
     ]
    },
    {
     "name": "stdout",
     "output_type": "stream",
     "text": [
      "page_content='Title: Introduction to AI and NLP for LLMs'\n",
      "page_content='1.1 Types of AI\n",
      "- Narrow AI (Weak AI): Designed to perform a specific task (e.g., chatbots, recommendation systems).\n",
      "- General AI (Strong AI): Aims to perform any intellectual task a human can do.\n",
      "- Super AI: A hypothetical AI surpassing human intelligence in all aspects.'\n"
     ]
    }
   ],
   "source": [
    "speech=\"\"\n",
    "\n",
    "with open(\"AI_NLP_LLM.txt\") as f:\n",
    "    speech=f.read()\n",
    "\n",
    "text_splitter= CharacterTextSplitter(chunk_size=100,chunk_overlap=20)\n",
    "text=text_splitter.create_documents([speech])\n",
    "print(text[0])\n",
    "print(text[2])"
   ]
  },
  {
   "cell_type": "code",
   "execution_count": null,
   "metadata": {},
   "outputs": [],
   "source": []
  }
 ],
 "metadata": {
  "kernelspec": {
   "display_name": "Python 3",
   "language": "python",
   "name": "python3"
  },
  "language_info": {
   "codemirror_mode": {
    "name": "ipython",
    "version": 3
   },
   "file_extension": ".py",
   "mimetype": "text/x-python",
   "name": "python",
   "nbconvert_exporter": "python",
   "pygments_lexer": "ipython3",
   "version": "3.10.0"
  }
 },
 "nbformat": 4,
 "nbformat_minor": 2
}
