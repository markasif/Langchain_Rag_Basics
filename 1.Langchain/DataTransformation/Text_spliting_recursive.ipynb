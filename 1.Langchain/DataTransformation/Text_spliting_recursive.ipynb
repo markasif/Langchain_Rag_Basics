{
 "cells": [
  {
   "cell_type": "code",
   "execution_count": 1,
   "metadata": {},
   "outputs": [
    {
     "data": {
      "text/plain": [
       "[Document(metadata={'producer': 'PyFPDF 1.7.2 http://pyfpdf.googlecode.com/', 'creator': 'PyPDF', 'creationdate': 'D:20250310114051', 'source': 'AI_NLP_LLM.pdf', 'total_pages': 2, 'page': 0, 'page_label': '1'}, page_content='Introduction to AI and NLP for LLMs\\n1. Introduction to Artificial Intelligence (AI)\\nArtificial Intelligence (AI) is a branch of computer science that focuses on creating systems capable\\nof performing tasks that typically require human intelligence. These tasks include problem-solving,\\nreasoning, learning, perception, and language understanding.\\n1.1 Types of AI\\n- Narrow AI (Weak AI): Designed to perform a specific task (e.g., chatbots, recommendation\\nsystems).\\n- General AI (Strong AI): Aims to perform any intellectual task a human can do.\\n- Super AI: A hypothetical AI surpassing human intelligence in all aspects.\\n2. Natural Language Processing (NLP)\\nNatural Language Processing (NLP) is a subfield of AI that focuses on enabling computers to\\nunderstand, interpret, and generate human language.\\n2.1 Key NLP Tasks\\n- Text Classification: Categorizing text into predefined labels (e.g., spam detection).\\n- Named Entity Recognition (NER): Identifying proper names, locations, dates, etc.\\n- Sentiment Analysis: Determining the emotion behind a text (positive, neutral, negative).\\n- Machine Translation: Automatically translating text between languages.\\n- Question Answering: Answering questions based on input data.\\n2.2 NLP Techniques\\n- Rule-based Methods: Using predefined rules to process language.\\n- Statistical Methods: Using probabilistic models for language processing.\\n- Deep Learning Models: Leveraging neural networks like RNNs, Transformers, and LLMs for\\nadvanced language understanding.\\n3. Large Language Models (LLMs)\\nLLMs are advanced deep learning models trained on massive amounts of text data to generate\\nhuman-like text.\\n3.1 How LLMs Work\\n- Pretraining: The model learns from vast datasets to understand language structure.\\n- Fine-tuning: The model is adjusted for specific tasks (e.g., customer support chatbots).'),\n",
       " Document(metadata={'producer': 'PyFPDF 1.7.2 http://pyfpdf.googlecode.com/', 'creator': 'PyPDF', 'creationdate': 'D:20250310114051', 'source': 'AI_NLP_LLM.pdf', 'total_pages': 2, 'page': 1, 'page_label': '2'}, page_content='- Prompt Engineering: Users provide specific input prompts to get desired responses.\\n3.2 Popular LLMs\\n- GPT Series (OpenAI)\\n- BERT (Google)\\n- LLaMA (Meta)\\n- Claude (Anthropic)\\n4. Retrieval-Augmented Generation (RAG) in LLMs\\nRetrieval-Augmented Generation (RAG) enhances LLMs by fetching relevant documents from\\nexternal sources to improve response quality.\\n4.1 Benefits of RAG\\n- Reduces hallucinations by retrieving factual data.\\n- Keeps responses up to date.\\n- Allows customization for specific industries (e.g., healthcare, law).\\n5. Conclusion\\nAI and NLP have revolutionized how we interact with machines. With advancements in LLMs and\\ntechniques like RAG, AI-powered applications are becoming more accurate and context-aware. As\\nresearch progresses, AI is expected to play an even bigger role in various industries.')]"
      ]
     },
     "execution_count": 1,
     "metadata": {},
     "output_type": "execute_result"
    }
   ],
   "source": [
    "from langchain_community.document_loaders import PyPDFLoader\n",
    "pdf_load = PyPDFLoader('AI_NLP_LLM.pdf')\n",
    "docs=pdf_load.load()\n",
    "docs"
   ]
  },
  {
   "cell_type": "code",
   "execution_count": 2,
   "metadata": {},
   "outputs": [
    {
     "name": "stdout",
     "output_type": "stream",
     "text": [
      "Requirement already satisfied: langchain-text-splitters in c:\\users\\apasi\\desktop\\new beginning\\langchain\\venv\\lib\\site-packages (0.3.6)\n",
      "Requirement already satisfied: langchain-core<1.0.0,>=0.3.34 in c:\\users\\apasi\\desktop\\new beginning\\langchain\\venv\\lib\\site-packages (from langchain-text-splitters) (0.3.41)\n",
      "Requirement already satisfied: langsmith<0.4,>=0.1.125 in c:\\users\\apasi\\desktop\\new beginning\\langchain\\venv\\lib\\site-packages (from langchain-core<1.0.0,>=0.3.34->langchain-text-splitters) (0.3.11)\n",
      "Requirement already satisfied: tenacity!=8.4.0,<10.0.0,>=8.1.0 in c:\\users\\apasi\\desktop\\new beginning\\langchain\\venv\\lib\\site-packages (from langchain-core<1.0.0,>=0.3.34->langchain-text-splitters) (9.0.0)\n",
      "Requirement already satisfied: jsonpatch<2.0,>=1.33 in c:\\users\\apasi\\desktop\\new beginning\\langchain\\venv\\lib\\site-packages (from langchain-core<1.0.0,>=0.3.34->langchain-text-splitters) (1.33)\n",
      "Requirement already satisfied: PyYAML>=5.3 in c:\\users\\apasi\\desktop\\new beginning\\langchain\\venv\\lib\\site-packages (from langchain-core<1.0.0,>=0.3.34->langchain-text-splitters) (6.0.2)\n",
      "Requirement already satisfied: packaging<25,>=23.2 in c:\\users\\apasi\\desktop\\new beginning\\langchain\\venv\\lib\\site-packages (from langchain-core<1.0.0,>=0.3.34->langchain-text-splitters) (24.2)\n",
      "Requirement already satisfied: typing-extensions>=4.7 in c:\\users\\apasi\\desktop\\new beginning\\langchain\\venv\\lib\\site-packages (from langchain-core<1.0.0,>=0.3.34->langchain-text-splitters) (4.12.2)\n",
      "Requirement already satisfied: pydantic<3.0.0,>=2.5.2 in c:\\users\\apasi\\desktop\\new beginning\\langchain\\venv\\lib\\site-packages (from langchain-core<1.0.0,>=0.3.34->langchain-text-splitters) (2.10.6)\n",
      "Requirement already satisfied: jsonpointer>=1.9 in c:\\users\\apasi\\desktop\\new beginning\\langchain\\venv\\lib\\site-packages (from jsonpatch<2.0,>=1.33->langchain-core<1.0.0,>=0.3.34->langchain-text-splitters) (3.0.0)\n",
      "Requirement already satisfied: httpx<1,>=0.23.0 in c:\\users\\apasi\\desktop\\new beginning\\langchain\\venv\\lib\\site-packages (from langsmith<0.4,>=0.1.125->langchain-core<1.0.0,>=0.3.34->langchain-text-splitters) (0.28.1)\n",
      "Requirement already satisfied: orjson<4.0.0,>=3.9.14 in c:\\users\\apasi\\desktop\\new beginning\\langchain\\venv\\lib\\site-packages (from langsmith<0.4,>=0.1.125->langchain-core<1.0.0,>=0.3.34->langchain-text-splitters) (3.10.15)\n",
      "Requirement already satisfied: requests<3,>=2 in c:\\users\\apasi\\desktop\\new beginning\\langchain\\venv\\lib\\site-packages (from langsmith<0.4,>=0.1.125->langchain-core<1.0.0,>=0.3.34->langchain-text-splitters) (2.32.3)\n",
      "Requirement already satisfied: requests-toolbelt<2.0.0,>=1.0.0 in c:\\users\\apasi\\desktop\\new beginning\\langchain\\venv\\lib\\site-packages (from langsmith<0.4,>=0.1.125->langchain-core<1.0.0,>=0.3.34->langchain-text-splitters) (1.0.0)\n",
      "Requirement already satisfied: zstandard<0.24.0,>=0.23.0 in c:\\users\\apasi\\desktop\\new beginning\\langchain\\venv\\lib\\site-packages (from langsmith<0.4,>=0.1.125->langchain-core<1.0.0,>=0.3.34->langchain-text-splitters) (0.23.0)\n",
      "Requirement already satisfied: annotated-types>=0.6.0 in c:\\users\\apasi\\desktop\\new beginning\\langchain\\venv\\lib\\site-packages (from pydantic<3.0.0,>=2.5.2->langchain-core<1.0.0,>=0.3.34->langchain-text-splitters) (0.7.0)\n",
      "Requirement already satisfied: pydantic-core==2.27.2 in c:\\users\\apasi\\desktop\\new beginning\\langchain\\venv\\lib\\site-packages (from pydantic<3.0.0,>=2.5.2->langchain-core<1.0.0,>=0.3.34->langchain-text-splitters) (2.27.2)\n",
      "Requirement already satisfied: anyio in c:\\users\\apasi\\desktop\\new beginning\\langchain\\venv\\lib\\site-packages (from httpx<1,>=0.23.0->langsmith<0.4,>=0.1.125->langchain-core<1.0.0,>=0.3.34->langchain-text-splitters) (4.8.0)\n",
      "Requirement already satisfied: certifi in c:\\users\\apasi\\desktop\\new beginning\\langchain\\venv\\lib\\site-packages (from httpx<1,>=0.23.0->langsmith<0.4,>=0.1.125->langchain-core<1.0.0,>=0.3.34->langchain-text-splitters) (2025.1.31)\n",
      "Requirement already satisfied: httpcore==1.* in c:\\users\\apasi\\desktop\\new beginning\\langchain\\venv\\lib\\site-packages (from httpx<1,>=0.23.0->langsmith<0.4,>=0.1.125->langchain-core<1.0.0,>=0.3.34->langchain-text-splitters) (1.0.7)\n",
      "Requirement already satisfied: idna in c:\\users\\apasi\\desktop\\new beginning\\langchain\\venv\\lib\\site-packages (from httpx<1,>=0.23.0->langsmith<0.4,>=0.1.125->langchain-core<1.0.0,>=0.3.34->langchain-text-splitters) (3.10)\n",
      "Requirement already satisfied: h11<0.15,>=0.13 in c:\\users\\apasi\\desktop\\new beginning\\langchain\\venv\\lib\\site-packages (from httpcore==1.*->httpx<1,>=0.23.0->langsmith<0.4,>=0.1.125->langchain-core<1.0.0,>=0.3.34->langchain-text-splitters) (0.14.0)\n",
      "Requirement already satisfied: charset-normalizer<4,>=2 in c:\\users\\apasi\\desktop\\new beginning\\langchain\\venv\\lib\\site-packages (from requests<3,>=2->langsmith<0.4,>=0.1.125->langchain-core<1.0.0,>=0.3.34->langchain-text-splitters) (3.4.1)\n",
      "Requirement already satisfied: urllib3<3,>=1.21.1 in c:\\users\\apasi\\desktop\\new beginning\\langchain\\venv\\lib\\site-packages (from requests<3,>=2->langsmith<0.4,>=0.1.125->langchain-core<1.0.0,>=0.3.34->langchain-text-splitters) (2.3.0)\n",
      "Requirement already satisfied: exceptiongroup>=1.0.2 in c:\\users\\apasi\\desktop\\new beginning\\langchain\\venv\\lib\\site-packages (from anyio->httpx<1,>=0.23.0->langsmith<0.4,>=0.1.125->langchain-core<1.0.0,>=0.3.34->langchain-text-splitters) (1.2.2)\n",
      "Requirement already satisfied: sniffio>=1.1 in c:\\users\\apasi\\desktop\\new beginning\\langchain\\venv\\lib\\site-packages (from anyio->httpx<1,>=0.23.0->langsmith<0.4,>=0.1.125->langchain-core<1.0.0,>=0.3.34->langchain-text-splitters) (1.3.1)\n"
     ]
    }
   ],
   "source": [
    "!pip install langchain-text-splitters"
   ]
  },
  {
   "cell_type": "code",
   "execution_count": 5,
   "metadata": {},
   "outputs": [
    {
     "data": {
      "text/plain": [
       "[Document(metadata={'producer': 'PyFPDF 1.7.2 http://pyfpdf.googlecode.com/', 'creator': 'PyPDF', 'creationdate': 'D:20250310114051', 'source': 'AI_NLP_LLM.pdf', 'total_pages': 2, 'page': 0, 'page_label': '1'}, page_content='Introduction to AI and NLP for LLMs\\n1. Introduction to Artificial Intelligence (AI)\\nArtificial Intelligence (AI) is a branch of computer science that focuses on creating systems capable\\nof performing tasks that typically require human intelligence. These tasks include problem-solving,\\nreasoning, learning, perception, and language understanding.\\n1.1 Types of AI\\n- Narrow AI (Weak AI): Designed to perform a specific task (e.g., chatbots, recommendation\\nsystems).'),\n",
       " Document(metadata={'producer': 'PyFPDF 1.7.2 http://pyfpdf.googlecode.com/', 'creator': 'PyPDF', 'creationdate': 'D:20250310114051', 'source': 'AI_NLP_LLM.pdf', 'total_pages': 2, 'page': 0, 'page_label': '1'}, page_content='systems).\\n- General AI (Strong AI): Aims to perform any intellectual task a human can do.\\n- Super AI: A hypothetical AI surpassing human intelligence in all aspects.\\n2. Natural Language Processing (NLP)\\nNatural Language Processing (NLP) is a subfield of AI that focuses on enabling computers to\\nunderstand, interpret, and generate human language.\\n2.1 Key NLP Tasks\\n- Text Classification: Categorizing text into predefined labels (e.g., spam detection).'),\n",
       " Document(metadata={'producer': 'PyFPDF 1.7.2 http://pyfpdf.googlecode.com/', 'creator': 'PyPDF', 'creationdate': 'D:20250310114051', 'source': 'AI_NLP_LLM.pdf', 'total_pages': 2, 'page': 0, 'page_label': '1'}, page_content='- Named Entity Recognition (NER): Identifying proper names, locations, dates, etc.\\n- Sentiment Analysis: Determining the emotion behind a text (positive, neutral, negative).\\n- Machine Translation: Automatically translating text between languages.\\n- Question Answering: Answering questions based on input data.\\n2.2 NLP Techniques\\n- Rule-based Methods: Using predefined rules to process language.\\n- Statistical Methods: Using probabilistic models for language processing.'),\n",
       " Document(metadata={'producer': 'PyFPDF 1.7.2 http://pyfpdf.googlecode.com/', 'creator': 'PyPDF', 'creationdate': 'D:20250310114051', 'source': 'AI_NLP_LLM.pdf', 'total_pages': 2, 'page': 0, 'page_label': '1'}, page_content='- Deep Learning Models: Leveraging neural networks like RNNs, Transformers, and LLMs for\\nadvanced language understanding.\\n3. Large Language Models (LLMs)\\nLLMs are advanced deep learning models trained on massive amounts of text data to generate\\nhuman-like text.\\n3.1 How LLMs Work\\n- Pretraining: The model learns from vast datasets to understand language structure.\\n- Fine-tuning: The model is adjusted for specific tasks (e.g., customer support chatbots).'),\n",
       " Document(metadata={'producer': 'PyFPDF 1.7.2 http://pyfpdf.googlecode.com/', 'creator': 'PyPDF', 'creationdate': 'D:20250310114051', 'source': 'AI_NLP_LLM.pdf', 'total_pages': 2, 'page': 1, 'page_label': '2'}, page_content='- Prompt Engineering: Users provide specific input prompts to get desired responses.\\n3.2 Popular LLMs\\n- GPT Series (OpenAI)\\n- BERT (Google)\\n- LLaMA (Meta)\\n- Claude (Anthropic)\\n4. Retrieval-Augmented Generation (RAG) in LLMs\\nRetrieval-Augmented Generation (RAG) enhances LLMs by fetching relevant documents from\\nexternal sources to improve response quality.\\n4.1 Benefits of RAG\\n- Reduces hallucinations by retrieving factual data.\\n- Keeps responses up to date.'),\n",
       " Document(metadata={'producer': 'PyFPDF 1.7.2 http://pyfpdf.googlecode.com/', 'creator': 'PyPDF', 'creationdate': 'D:20250310114051', 'source': 'AI_NLP_LLM.pdf', 'total_pages': 2, 'page': 1, 'page_label': '2'}, page_content='- Keeps responses up to date.\\n- Allows customization for specific industries (e.g., healthcare, law).\\n5. Conclusion\\nAI and NLP have revolutionized how we interact with machines. With advancements in LLMs and\\ntechniques like RAG, AI-powered applications are becoming more accurate and context-aware. As\\nresearch progresses, AI is expected to play an even bigger role in various industries.')]"
      ]
     },
     "execution_count": 5,
     "metadata": {},
     "output_type": "execute_result"
    }
   ],
   "source": [
    "from langchain_text_splitters import RecursiveCharacterTextSplitter\n",
    "text_splitters = RecursiveCharacterTextSplitter(chunk_size=500,chunk_overlap=50)\n",
    "final_documents=text_splitters.split_documents(docs)\n",
    "final_documents"
   ]
  },
  {
   "cell_type": "code",
   "execution_count": 8,
   "metadata": {},
   "outputs": [
    {
     "data": {
      "text/plain": [
       "[Document(metadata={'source': 'AI_NLP_LLM.txt'}, page_content='Title: Introduction to AI and NLP for LLMs\\n\\n1. Introduction to Artificial Intelligence (AI)\\nArtificial Intelligence (AI) is a branch of computer science that focuses on creating systems capable of performing tasks that typically require human intelligence.\\n\\n1.1 Types of AI\\n- Narrow AI (Weak AI): Designed to perform a specific task (e.g., chatbots, recommendation systems).\\n- General AI (Strong AI): Aims to perform any intellectual task a human can do.\\n- Super AI: A hypothetical AI surpassing human intelligence in all aspects.\\n\\n2. Natural Language Processing (NLP)\\nNatural Language Processing (NLP) is a subfield of AI that focuses on enabling computers to understand, interpret, and generate human language.\\n\\n3. Large Language Models (LLMs)\\nLLMs are advanced deep learning models trained on massive amounts of text data to generate human-like text.\\n\\n4. Retrieval-Augmented Generation (RAG) in LLMs\\nRetrieval-Augmented Generation (RAG) enhances LLMs by fetching relevant documents from external sources to improve response quality.\\n\\n5. Conclusion\\nAI and NLP have revolutionized how we interact with machines. With advancements in LLMs and techniques like RAG, AI-powered applications are becoming more accurate and context-aware.\\n')]"
      ]
     },
     "execution_count": 8,
     "metadata": {},
     "output_type": "execute_result"
    }
   ],
   "source": [
    "from langchain_community.document_loaders import TextLoader\n",
    "loader = TextLoader('AI_NLP_LLM.txt')\n",
    "docs = loader.load()\n",
    "docs"
   ]
  },
  {
   "cell_type": "code",
   "execution_count": 9,
   "metadata": {},
   "outputs": [
    {
     "data": {
      "text/plain": [
       "'Title: Introduction to AI and NLP for LLMs\\n\\n1. Introduction to Artificial Intelligence (AI)\\nArtificial Intelligence (AI) is a branch of computer science that focuses on creating systems capable of performing tasks that typically require human intelligence.\\n\\n1.1 Types of AI\\n- Narrow AI (Weak AI): Designed to perform a specific task (e.g., chatbots, recommendation systems).\\n- General AI (Strong AI): Aims to perform any intellectual task a human can do.\\n- Super AI: A hypothetical AI surpassing human intelligence in all aspects.\\n\\n2. Natural Language Processing (NLP)\\nNatural Language Processing (NLP) is a subfield of AI that focuses on enabling computers to understand, interpret, and generate human language.\\n\\n3. Large Language Models (LLMs)\\nLLMs are advanced deep learning models trained on massive amounts of text data to generate human-like text.\\n\\n4. Retrieval-Augmented Generation (RAG) in LLMs\\nRetrieval-Augmented Generation (RAG) enhances LLMs by fetching relevant documents from external sources to improve response quality.\\n\\n5. Conclusion\\nAI and NLP have revolutionized how we interact with machines. With advancements in LLMs and techniques like RAG, AI-powered applications are becoming more accurate and context-aware.\\n'"
      ]
     },
     "execution_count": 9,
     "metadata": {},
     "output_type": "execute_result"
    }
   ],
   "source": [
    "speech = \"\"\n",
    "with open(\"AI_NLP_LLM.txt\") as f:\n",
    "    speech=f.read()\n",
    "speech"
   ]
  },
  {
   "cell_type": "code",
   "execution_count": 21,
   "metadata": {},
   "outputs": [
    {
     "name": "stdout",
     "output_type": "stream",
     "text": [
      "page_content='Title: Introduction to AI and NLP for LLMs'\n",
      "page_content='1. Introduction to Artificial Intelligence (AI)'\n",
      "page_content='Artificial Intelligence (AI) is a branch of computer science that focuses on creating systems'\n",
      "page_content='on creating systems capable of performing tasks that typically require human intelligence.'\n"
     ]
    }
   ],
   "source": [
    "text_splitters=RecursiveCharacterTextSplitter(chunk_size=100,chunk_overlap=20)\n",
    "text= text_splitters.create_documents([speech])\n",
    "print(text[0])\n",
    "print(text[1])\n",
    "print(text[2])\n",
    "print(text[3])"
   ]
  },
  {
   "cell_type": "code",
   "execution_count": null,
   "metadata": {},
   "outputs": [],
   "source": []
  }
 ],
 "metadata": {
  "kernelspec": {
   "display_name": "Python 3",
   "language": "python",
   "name": "python3"
  },
  "language_info": {
   "codemirror_mode": {
    "name": "ipython",
    "version": 3
   },
   "file_extension": ".py",
   "mimetype": "text/x-python",
   "name": "python",
   "nbconvert_exporter": "python",
   "pygments_lexer": "ipython3",
   "version": "3.10.0"
  }
 },
 "nbformat": 4,
 "nbformat_minor": 2
}
