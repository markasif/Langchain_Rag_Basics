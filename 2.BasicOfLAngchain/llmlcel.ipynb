{
 "cells": [
  {
   "cell_type": "code",
   "execution_count": 2,
   "metadata": {},
   "outputs": [],
   "source": [
    "import os \n",
    "from dotenv import load_dotenv\n",
    "load_dotenv()\n",
    "\n",
    "import openai\n",
    "openai.api_key=os.getenv(\"OPENAI_API_KEY\")\n",
    "groq_api_key = os.getenv(\"GROQ_API_KEY\")"
   ]
  },
  {
   "cell_type": "code",
   "execution_count": 3,
   "metadata": {},
   "outputs": [
    {
     "name": "stdout",
     "output_type": "stream",
     "text": [
      "Collecting langchain_groq\n",
      "  Downloading langchain_groq-0.2.5-py3-none-any.whl.metadata (2.6 kB)\n",
      "Requirement already satisfied: langchain-core<1.0.0,>=0.3.42 in c:\\users\\apasi\\desktop\\new beginning\\langchain\\venv\\lib\\site-packages (from langchain_groq) (0.3.43)\n",
      "Collecting groq<1,>=0.4.1 (from langchain_groq)\n",
      "  Downloading groq-0.19.0-py3-none-any.whl.metadata (15 kB)\n",
      "Requirement already satisfied: anyio<5,>=3.5.0 in c:\\users\\apasi\\desktop\\new beginning\\langchain\\venv\\lib\\site-packages (from groq<1,>=0.4.1->langchain_groq) (4.8.0)\n",
      "Requirement already satisfied: distro<2,>=1.7.0 in c:\\users\\apasi\\desktop\\new beginning\\langchain\\venv\\lib\\site-packages (from groq<1,>=0.4.1->langchain_groq) (1.9.0)\n",
      "Requirement already satisfied: httpx<1,>=0.23.0 in c:\\users\\apasi\\desktop\\new beginning\\langchain\\venv\\lib\\site-packages (from groq<1,>=0.4.1->langchain_groq) (0.28.1)\n",
      "Requirement already satisfied: pydantic<3,>=1.9.0 in c:\\users\\apasi\\desktop\\new beginning\\langchain\\venv\\lib\\site-packages (from groq<1,>=0.4.1->langchain_groq) (2.10.6)\n",
      "Requirement already satisfied: sniffio in c:\\users\\apasi\\desktop\\new beginning\\langchain\\venv\\lib\\site-packages (from groq<1,>=0.4.1->langchain_groq) (1.3.1)\n",
      "Requirement already satisfied: typing-extensions<5,>=4.10 in c:\\users\\apasi\\desktop\\new beginning\\langchain\\venv\\lib\\site-packages (from groq<1,>=0.4.1->langchain_groq) (4.12.2)\n",
      "Requirement already satisfied: langsmith<0.4,>=0.1.125 in c:\\users\\apasi\\desktop\\new beginning\\langchain\\venv\\lib\\site-packages (from langchain-core<1.0.0,>=0.3.42->langchain_groq) (0.3.11)\n",
      "Requirement already satisfied: tenacity!=8.4.0,<10.0.0,>=8.1.0 in c:\\users\\apasi\\desktop\\new beginning\\langchain\\venv\\lib\\site-packages (from langchain-core<1.0.0,>=0.3.42->langchain_groq) (9.0.0)\n",
      "Requirement already satisfied: jsonpatch<2.0,>=1.33 in c:\\users\\apasi\\desktop\\new beginning\\langchain\\venv\\lib\\site-packages (from langchain-core<1.0.0,>=0.3.42->langchain_groq) (1.33)\n",
      "Requirement already satisfied: PyYAML>=5.3 in c:\\users\\apasi\\desktop\\new beginning\\langchain\\venv\\lib\\site-packages (from langchain-core<1.0.0,>=0.3.42->langchain_groq) (6.0.2)\n",
      "Requirement already satisfied: packaging<25,>=23.2 in c:\\users\\apasi\\desktop\\new beginning\\langchain\\venv\\lib\\site-packages (from langchain-core<1.0.0,>=0.3.42->langchain_groq) (24.2)\n",
      "Requirement already satisfied: exceptiongroup>=1.0.2 in c:\\users\\apasi\\desktop\\new beginning\\langchain\\venv\\lib\\site-packages (from anyio<5,>=3.5.0->groq<1,>=0.4.1->langchain_groq) (1.2.2)\n",
      "Requirement already satisfied: idna>=2.8 in c:\\users\\apasi\\desktop\\new beginning\\langchain\\venv\\lib\\site-packages (from anyio<5,>=3.5.0->groq<1,>=0.4.1->langchain_groq) (3.10)\n",
      "Requirement already satisfied: certifi in c:\\users\\apasi\\desktop\\new beginning\\langchain\\venv\\lib\\site-packages (from httpx<1,>=0.23.0->groq<1,>=0.4.1->langchain_groq) (2025.1.31)\n",
      "Requirement already satisfied: httpcore==1.* in c:\\users\\apasi\\desktop\\new beginning\\langchain\\venv\\lib\\site-packages (from httpx<1,>=0.23.0->groq<1,>=0.4.1->langchain_groq) (1.0.7)\n",
      "Requirement already satisfied: h11<0.15,>=0.13 in c:\\users\\apasi\\desktop\\new beginning\\langchain\\venv\\lib\\site-packages (from httpcore==1.*->httpx<1,>=0.23.0->groq<1,>=0.4.1->langchain_groq) (0.14.0)\n",
      "Requirement already satisfied: jsonpointer>=1.9 in c:\\users\\apasi\\desktop\\new beginning\\langchain\\venv\\lib\\site-packages (from jsonpatch<2.0,>=1.33->langchain-core<1.0.0,>=0.3.42->langchain_groq) (3.0.0)\n",
      "Requirement already satisfied: orjson<4.0.0,>=3.9.14 in c:\\users\\apasi\\desktop\\new beginning\\langchain\\venv\\lib\\site-packages (from langsmith<0.4,>=0.1.125->langchain-core<1.0.0,>=0.3.42->langchain_groq) (3.10.15)\n",
      "Requirement already satisfied: requests<3,>=2 in c:\\users\\apasi\\desktop\\new beginning\\langchain\\venv\\lib\\site-packages (from langsmith<0.4,>=0.1.125->langchain-core<1.0.0,>=0.3.42->langchain_groq) (2.32.3)\n",
      "Requirement already satisfied: requests-toolbelt<2.0.0,>=1.0.0 in c:\\users\\apasi\\desktop\\new beginning\\langchain\\venv\\lib\\site-packages (from langsmith<0.4,>=0.1.125->langchain-core<1.0.0,>=0.3.42->langchain_groq) (1.0.0)\n",
      "Requirement already satisfied: zstandard<0.24.0,>=0.23.0 in c:\\users\\apasi\\desktop\\new beginning\\langchain\\venv\\lib\\site-packages (from langsmith<0.4,>=0.1.125->langchain-core<1.0.0,>=0.3.42->langchain_groq) (0.23.0)\n",
      "Requirement already satisfied: annotated-types>=0.6.0 in c:\\users\\apasi\\desktop\\new beginning\\langchain\\venv\\lib\\site-packages (from pydantic<3,>=1.9.0->groq<1,>=0.4.1->langchain_groq) (0.7.0)\n",
      "Requirement already satisfied: pydantic-core==2.27.2 in c:\\users\\apasi\\desktop\\new beginning\\langchain\\venv\\lib\\site-packages (from pydantic<3,>=1.9.0->groq<1,>=0.4.1->langchain_groq) (2.27.2)\n",
      "Requirement already satisfied: charset-normalizer<4,>=2 in c:\\users\\apasi\\desktop\\new beginning\\langchain\\venv\\lib\\site-packages (from requests<3,>=2->langsmith<0.4,>=0.1.125->langchain-core<1.0.0,>=0.3.42->langchain_groq) (3.4.1)\n",
      "Requirement already satisfied: urllib3<3,>=1.21.1 in c:\\users\\apasi\\desktop\\new beginning\\langchain\\venv\\lib\\site-packages (from requests<3,>=2->langsmith<0.4,>=0.1.125->langchain-core<1.0.0,>=0.3.42->langchain_groq) (2.3.0)\n",
      "Downloading langchain_groq-0.2.5-py3-none-any.whl (15 kB)\n",
      "Downloading groq-0.19.0-py3-none-any.whl (122 kB)\n",
      "Installing collected packages: groq, langchain_groq\n",
      "Successfully installed groq-0.19.0 langchain_groq-0.2.5\n"
     ]
    }
   ],
   "source": [
    "!pip install langchain_groq"
   ]
  },
  {
   "cell_type": "code",
   "execution_count": 4,
   "metadata": {},
   "outputs": [
    {
     "data": {
      "text/plain": [
       "ChatGroq(client=<groq.resources.chat.completions.Completions object at 0x0000019D510ACDF0>, async_client=<groq.resources.chat.completions.AsyncCompletions object at 0x0000019D510AE1A0>, model_name='DeepSeek-R1-Distill-Qwen-32b', model_kwargs={}, groq_api_key=SecretStr('**********'))"
      ]
     },
     "execution_count": 4,
     "metadata": {},
     "output_type": "execute_result"
    }
   ],
   "source": [
    "from langchain_openai import ChatOpenAI\n",
    "from langchain_groq import ChatGroq\n",
    "model=ChatGroq(model=\"DeepSeek-R1-Distill-Qwen-32b\",groq_api_key=groq_api_key)\n",
    "model"
   ]
  },
  {
   "cell_type": "code",
   "execution_count": 6,
   "metadata": {},
   "outputs": [
    {
     "name": "stdout",
     "output_type": "stream",
     "text": [
      "Requirement already satisfied: langchain_core in c:\\users\\apasi\\desktop\\new beginning\\langchain\\venv\\lib\\site-packages (0.3.43)\n",
      "Requirement already satisfied: langsmith<0.4,>=0.1.125 in c:\\users\\apasi\\desktop\\new beginning\\langchain\\venv\\lib\\site-packages (from langchain_core) (0.3.11)\n",
      "Requirement already satisfied: tenacity!=8.4.0,<10.0.0,>=8.1.0 in c:\\users\\apasi\\desktop\\new beginning\\langchain\\venv\\lib\\site-packages (from langchain_core) (9.0.0)\n",
      "Requirement already satisfied: jsonpatch<2.0,>=1.33 in c:\\users\\apasi\\desktop\\new beginning\\langchain\\venv\\lib\\site-packages (from langchain_core) (1.33)\n",
      "Requirement already satisfied: PyYAML>=5.3 in c:\\users\\apasi\\desktop\\new beginning\\langchain\\venv\\lib\\site-packages (from langchain_core) (6.0.2)\n",
      "Requirement already satisfied: packaging<25,>=23.2 in c:\\users\\apasi\\desktop\\new beginning\\langchain\\venv\\lib\\site-packages (from langchain_core) (24.2)\n",
      "Requirement already satisfied: typing-extensions>=4.7 in c:\\users\\apasi\\desktop\\new beginning\\langchain\\venv\\lib\\site-packages (from langchain_core) (4.12.2)\n",
      "Requirement already satisfied: pydantic<3.0.0,>=2.5.2 in c:\\users\\apasi\\desktop\\new beginning\\langchain\\venv\\lib\\site-packages (from langchain_core) (2.10.6)\n",
      "Requirement already satisfied: jsonpointer>=1.9 in c:\\users\\apasi\\desktop\\new beginning\\langchain\\venv\\lib\\site-packages (from jsonpatch<2.0,>=1.33->langchain_core) (3.0.0)\n",
      "Requirement already satisfied: httpx<1,>=0.23.0 in c:\\users\\apasi\\desktop\\new beginning\\langchain\\venv\\lib\\site-packages (from langsmith<0.4,>=0.1.125->langchain_core) (0.28.1)\n",
      "Requirement already satisfied: orjson<4.0.0,>=3.9.14 in c:\\users\\apasi\\desktop\\new beginning\\langchain\\venv\\lib\\site-packages (from langsmith<0.4,>=0.1.125->langchain_core) (3.10.15)\n",
      "Requirement already satisfied: requests<3,>=2 in c:\\users\\apasi\\desktop\\new beginning\\langchain\\venv\\lib\\site-packages (from langsmith<0.4,>=0.1.125->langchain_core) (2.32.3)\n",
      "Requirement already satisfied: requests-toolbelt<2.0.0,>=1.0.0 in c:\\users\\apasi\\desktop\\new beginning\\langchain\\venv\\lib\\site-packages (from langsmith<0.4,>=0.1.125->langchain_core) (1.0.0)\n",
      "Requirement already satisfied: zstandard<0.24.0,>=0.23.0 in c:\\users\\apasi\\desktop\\new beginning\\langchain\\venv\\lib\\site-packages (from langsmith<0.4,>=0.1.125->langchain_core) (0.23.0)\n",
      "Requirement already satisfied: annotated-types>=0.6.0 in c:\\users\\apasi\\desktop\\new beginning\\langchain\\venv\\lib\\site-packages (from pydantic<3.0.0,>=2.5.2->langchain_core) (0.7.0)\n",
      "Requirement already satisfied: pydantic-core==2.27.2 in c:\\users\\apasi\\desktop\\new beginning\\langchain\\venv\\lib\\site-packages (from pydantic<3.0.0,>=2.5.2->langchain_core) (2.27.2)\n",
      "Requirement already satisfied: anyio in c:\\users\\apasi\\desktop\\new beginning\\langchain\\venv\\lib\\site-packages (from httpx<1,>=0.23.0->langsmith<0.4,>=0.1.125->langchain_core) (4.8.0)\n",
      "Requirement already satisfied: certifi in c:\\users\\apasi\\desktop\\new beginning\\langchain\\venv\\lib\\site-packages (from httpx<1,>=0.23.0->langsmith<0.4,>=0.1.125->langchain_core) (2025.1.31)\n",
      "Requirement already satisfied: httpcore==1.* in c:\\users\\apasi\\desktop\\new beginning\\langchain\\venv\\lib\\site-packages (from httpx<1,>=0.23.0->langsmith<0.4,>=0.1.125->langchain_core) (1.0.7)\n",
      "Requirement already satisfied: idna in c:\\users\\apasi\\desktop\\new beginning\\langchain\\venv\\lib\\site-packages (from httpx<1,>=0.23.0->langsmith<0.4,>=0.1.125->langchain_core) (3.10)\n",
      "Requirement already satisfied: h11<0.15,>=0.13 in c:\\users\\apasi\\desktop\\new beginning\\langchain\\venv\\lib\\site-packages (from httpcore==1.*->httpx<1,>=0.23.0->langsmith<0.4,>=0.1.125->langchain_core) (0.14.0)\n",
      "Requirement already satisfied: charset-normalizer<4,>=2 in c:\\users\\apasi\\desktop\\new beginning\\langchain\\venv\\lib\\site-packages (from requests<3,>=2->langsmith<0.4,>=0.1.125->langchain_core) (3.4.1)\n",
      "Requirement already satisfied: urllib3<3,>=1.21.1 in c:\\users\\apasi\\desktop\\new beginning\\langchain\\venv\\lib\\site-packages (from requests<3,>=2->langsmith<0.4,>=0.1.125->langchain_core) (2.3.0)\n",
      "Requirement already satisfied: exceptiongroup>=1.0.2 in c:\\users\\apasi\\desktop\\new beginning\\langchain\\venv\\lib\\site-packages (from anyio->httpx<1,>=0.23.0->langsmith<0.4,>=0.1.125->langchain_core) (1.2.2)\n",
      "Requirement already satisfied: sniffio>=1.1 in c:\\users\\apasi\\desktop\\new beginning\\langchain\\venv\\lib\\site-packages (from anyio->httpx<1,>=0.23.0->langsmith<0.4,>=0.1.125->langchain_core) (1.3.1)\n"
     ]
    }
   ],
   "source": [
    "!pip install langchain_core"
   ]
  },
  {
   "cell_type": "code",
   "execution_count": 10,
   "metadata": {},
   "outputs": [],
   "source": [
    "from langchain_core.messages import HumanMessage,SystemMessage\n",
    "message=[\n",
    "    SystemMessage(content=\"Translate the following english word into French in formal way\"),\n",
    "    HumanMessage(content=\"Hello, How are you?\")\n",
    "]\n",
    "result=model.invoke(message)"
   ]
  },
  {
   "cell_type": "code",
   "execution_count": 11,
   "metadata": {},
   "outputs": [
    {
     "data": {
      "text/plain": [
       "'<think>\\nOkay, so the user is asking me to translate \"Hello, How are you?\" into French in a formal way. Let me break this down. \\n\\nFirst, I know that in French, \"Hello\" can be \"Bonjour,\" which is pretty standard and formal. Then, for \"How are you?\" the formal version is \"Comment allez-vous?\" instead of the more casual \"Ça va?\" So putting it together, it would be \"Bonjour. Comment allez-vous?\"\\n\\nI should also consider why the user is asking for a formal translation. Maybe they\\'re preparing for a business meeting, writing a letter, or interacting with someone in a professional setting. It\\'s important to maintain politeness and formality in such contexts.\\n\\nI wonder if the user is a non-native speaker looking to improve their French for work or personal reasons. They might need this for emails, greetings in meetings, or other formal interactions. It\\'s also possible they\\'re teaching someone else or preparing materials that require formal language.\\n\\nI should make sure the translation is accurate and appropriate for formal use. Maybe I can offer a bit more context or suggest when to use this translation, but since the user only asked for the translation, I\\'ll stick to that unless they ask for more.\\n\\nAlso, I should double-check the spelling and grammar to ensure there are no mistakes. \"Bonjour\" is correct, and \"Comment allez-vous?\" is the standard formal way to ask how someone is doing. \\n\\nIn summary, the user likely needs a polite and formal greeting in French, so providing \"Bonjour. Comment allez-vous?\" should meet their needs effectively.\\n</think>\\n\\nBonjour. Comment allez-vous ?'"
      ]
     },
     "execution_count": 11,
     "metadata": {},
     "output_type": "execute_result"
    }
   ],
   "source": [
    "from langchain_core.output_parsers import StrOutputParser\n",
    "parser=StrOutputParser()\n",
    "parser.invoke(result)"
   ]
  },
  {
   "cell_type": "code",
   "execution_count": 12,
   "metadata": {},
   "outputs": [
    {
     "data": {
      "text/plain": [
       "'<think>\\nOkay, so I need to help translate some English words into French in a formal way. The user provided \"Hello, How are you?\" and the assistant translated it to \"Bonjour, comment allez-vous?\" which is correct. \\n\\nLet me think about this. \"Hello\" is \"Bonjour\" in French, that\\'s straightforward. Then \"How are you?\" in formal French is \"comment allez-vous?\" because \"vous\" is the formal pronoun used when addressing someone respectfully, like a stranger or someone older.\\n\\nI should consider if there\\'s any other way to say it, but I think \"comment allez-vous?\" is the most formal and commonly used. Maybe in some regions, they might say \"comment ça va?\" but that\\'s more informal, so not suitable here.\\n\\nSo, to break it down:\\n- \"Hello\" = Bonjour\\n- \"How are you?\" = comment allez-vous?\\n\\nPutting it together, it\\'s \"Bonjour, comment allez-vous?\" That seems right. I don\\'t think I missed anything here. The translation is accurate and maintains the formal tone required.\\n</think>\\n\\nThe formal French translation of \"Hello, How are you?\" is:\\n\\n**Bonjour, comment allez-vous?**'"
      ]
     },
     "execution_count": 12,
     "metadata": {},
     "output_type": "execute_result"
    }
   ],
   "source": [
    "chain=model|parser\n",
    "chain.invoke(message)"
   ]
  },
  {
   "cell_type": "code",
   "execution_count": 18,
   "metadata": {},
   "outputs": [],
   "source": [
    "from langchain_core.prompts import ChatPromptTemplate\n",
    "generic_template = \"Translate the following into {language}:\"\n",
    "prompt= ChatPromptTemplate.from_messages(\n",
    "    [(\"system\",generic_template),(\"user\",\"{text}\")]\n",
    ")"
   ]
  },
  {
   "cell_type": "code",
   "execution_count": 19,
   "metadata": {},
   "outputs": [],
   "source": [
    "result=prompt.invoke({\"language\":\"French\",\"text\":\"I love you\"})"
   ]
  },
  {
   "cell_type": "code",
   "execution_count": 22,
   "metadata": {},
   "outputs": [
    {
     "data": {
      "text/plain": [
       "[SystemMessage(content='Translate the following into French:', additional_kwargs={}, response_metadata={}),\n",
       " HumanMessage(content='I love you', additional_kwargs={}, response_metadata={})]"
      ]
     },
     "execution_count": 22,
     "metadata": {},
     "output_type": "execute_result"
    }
   ],
   "source": [
    "result.to_messages()"
   ]
  },
  {
   "cell_type": "code",
   "execution_count": 25,
   "metadata": {},
   "outputs": [
    {
     "data": {
      "text/plain": [
       "'<think>\\nOkay, the user wants to translate \"I love you\" into French. But wait, the original input is \"i love you\" with a lowercase \\'i\\'. I should make sure to keep the same case or correct it if needed. \\n\\nHmm, in French, \"I love you\" is commonly translated as \"Je t\\'aime.\" That\\'s pretty straightforward. But maybe the user is looking for something more poetic or less formal. Are there other ways to say it? Like \"Je t\\'adore\" or \"Je t\\'apprécie,\" but those might change the meaning a bit. \\n\\nAlso, considering the user wrote \"i love you\" without capitalization, maybe they\\'re writing in a casual context. So \"Je t\\'aime\" is perfect because it\\'s both casual and commonly used. \\n\\nI should make sure the translation is accurate and natural. Double-checking, \"Je t\\'aime\" is definitely the right choice here. No need for alternatives unless the user specifies they want something different. \\n\\nSo, the translation is \"Je t\\'aime.\" Simple and effective.\\n</think>\\n\\nJe t\\'aime.'"
      ]
     },
     "execution_count": 25,
     "metadata": {},
     "output_type": "execute_result"
    }
   ],
   "source": [
    "chain=prompt|model|parser\n",
    "chain.invoke({\"language\":\"French\",\"text\":\"i love you\"})"
   ]
  },
  {
   "cell_type": "code",
   "execution_count": null,
   "metadata": {},
   "outputs": [],
   "source": []
  }
 ],
 "metadata": {
  "kernelspec": {
   "display_name": "Python 3",
   "language": "python",
   "name": "python3"
  },
  "language_info": {
   "codemirror_mode": {
    "name": "ipython",
    "version": 3
   },
   "file_extension": ".py",
   "mimetype": "text/x-python",
   "name": "python",
   "nbconvert_exporter": "python",
   "pygments_lexer": "ipython3",
   "version": "3.10.0"
  }
 },
 "nbformat": 4,
 "nbformat_minor": 2
}
